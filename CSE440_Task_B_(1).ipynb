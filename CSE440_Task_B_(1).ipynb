{
  "nbformat": 4,
  "nbformat_minor": 0,
  "metadata": {
    "colab": {
      "provenance": [],
      "gpuType": "T4"
    },
    "kernelspec": {
      "name": "python3",
      "display_name": "Python 3"
    },
    "language_info": {
      "name": "python"
    },
    "accelerator": "GPU"
  },
  "cells": [
    {
      "cell_type": "markdown",
      "source": [
        "#Loading Libraries"
      ],
      "metadata": {
        "id": "Z96_YTbsPPep"
      }
    },
    {
      "cell_type": "code",
      "execution_count": 21,
      "metadata": {
        "id": "7Kf-sc3Lm0AY"
      },
      "outputs": [],
      "source": [
        "import numpy as np\n",
        "import pandas as pd\n",
        "import matplotlib.pyplot as plt\n",
        "from tensorflow.keras.preprocessing.text import Tokenizer\n",
        "from tensorflow.keras.preprocessing.sequence import pad_sequences\n",
        "from tensorflow.keras.models import Sequential\n",
        "from tensorflow.keras.layers import Embedding, LSTM, Dense, Bidirectional, Dropout\n",
        "from tensorflow.keras.optimizers import Adam\n",
        "from keras.metrics import Precision, Recall\n",
        "from sklearn.model_selection import train_test_split\n",
        "from sklearn.metrics import confusion_matrix, f1_score\n",
        "import seaborn as sns"
      ]
    },
    {
      "cell_type": "code",
      "source": [
        "from google.colab import drive\n",
        "drive.mount('/content/drive')"
      ],
      "metadata": {
        "id": "UK9e9BRWY1MX"
      },
      "execution_count": null,
      "outputs": []
    },
    {
      "cell_type": "markdown",
      "source": [
        "**Mounting Drive**"
      ],
      "metadata": {
        "id": "VxTRUjfSPVKK"
      }
    },
    {
      "cell_type": "markdown",
      "source": [
        "#Loading Train and Test data**"
      ],
      "metadata": {
        "id": "6pnMMXwDPaUA"
      }
    },
    {
      "cell_type": "code",
      "source": [
        "data = pd.read_csv('train_all_tasks.csv')"
      ],
      "metadata": {
        "id": "OvRi0Bnnqtex"
      },
      "execution_count": null,
      "outputs": []
    },
    {
      "cell_type": "markdown",
      "source": [
        "#Visulalizing data"
      ],
      "metadata": {
        "id": "IPw2ktNDl8Rw"
      }
    },
    {
      "source": [
        "from matplotlib import pyplot as plt\n",
        "data.groupby('label_category').size().plot(kind='barh', color=sns.palettes.mpl_palette('Dark2'))\n",
        "plt.gca().spines[['top', 'right',]].set_visible(False)"
      ],
      "cell_type": "code",
      "execution_count": null,
      "outputs": [],
      "metadata": {
        "id": "sSsOAqfCrvPp"
      }
    },
    {
      "cell_type": "markdown",
      "source": [
        "#Modified Dataset"
      ],
      "metadata": {
        "id": "v7saMfqZmRMF"
      }
    },
    {
      "cell_type": "code",
      "source": [
        "\n",
        "data =data[data['label_category'] != 'none']\n",
        "text = data['text']\n",
        "data.head()\n"
      ],
      "metadata": {
        "id": "PLf72Wa2rzzS"
      },
      "execution_count": null,
      "outputs": []
    },
    {
      "cell_type": "code",
      "source": [
        "#Feeding dummy boleean data\n",
        "\n",
        "labels = data['label_category']\n",
        "labels = pd.get_dummies(data['label_category'], dtype=int)\n",
        "print(labels)"
      ],
      "metadata": {
        "id": "7ke98AdHFr1J"
      },
      "execution_count": null,
      "outputs": []
    },
    {
      "cell_type": "markdown",
      "source": [
        "# Loading GloVe embeddings"
      ],
      "metadata": {
        "id": "V6LpBnLkmggS"
      }
    },
    {
      "cell_type": "code",
      "source": [
        "\n",
        "def load_glove_embeddings(path):\n",
        "    embeddings_index = {}\n",
        "    with open(path) as f:\n",
        "        for line in f:\n",
        "            values = line.split()\n",
        "            word = values[0]\n",
        "            coefs = np.asarray(values[1:], dtype='float32')\n",
        "            embeddings_index[word] = coefs\n",
        "    return embeddings_index\n",
        "\n",
        "glove_path = '/content/drive/MyDrive/glove.6B.100d.txt'\n",
        "glove_embeddings = load_glove_embeddings(glove_path)"
      ],
      "metadata": {
        "id": "0BtmOCRXtAnK"
      },
      "execution_count": null,
      "outputs": []
    },
    {
      "cell_type": "markdown",
      "source": [
        "#Tokenization"
      ],
      "metadata": {
        "id": "L4N_XoPQmpny"
      }
    },
    {
      "cell_type": "code",
      "source": [
        "tokenizer = Tokenizer(num_words = 40000)\n",
        "tokenizer.fit_on_texts(text)\n",
        "seq = tokenizer.texts_to_sequences(text)\n",
        "word_index = tokenizer.word_index\n",
        "padded_data = pad_sequences(seq, maxlen=256)"
      ],
      "metadata": {
        "id": "pqZNs7kfvHjX"
      },
      "execution_count": null,
      "outputs": []
    },
    {
      "cell_type": "code",
      "source": [
        "emd_matrix = np.zeros((len(word_index) + 1, 100))\n",
        "for word, i in word_index.items():\n",
        "    embedding_vector = glove_embeddings.get(word)\n",
        "    if embedding_vector is not None:\n",
        "        emd_matrix[i] = embedding_vector"
      ],
      "metadata": {
        "id": "IoS-azIRv5mr"
      },
      "execution_count": null,
      "outputs": []
    },
    {
      "cell_type": "code",
      "source": [
        "X_train, X_test, y_train, y_test = train_test_split(padded_data, labels, test_size=0.2, random_state=42)\n",
        "print(X_train.shape, X_test.shape, y_train.shape, y_test.shape)"
      ],
      "metadata": {
        "id": "19U_9tPWwESd"
      },
      "execution_count": null,
      "outputs": []
    },
    {
      "cell_type": "code",
      "source": [
        "import matplotlib.pyplot as plt\n",
        "\n",
        "def plot_history(history):\n",
        "    # Plot training & validation accuracy values\n",
        "    plt.figure(figsize=(12, 4))\n",
        "\n",
        "    plt.subplot(1, 2, 1)\n",
        "    plt.plot(history.history['accuracy'])\n",
        "    plt.plot(history.history['val_accuracy'])\n",
        "    plt.title('Model Accuracy')\n",
        "    plt.ylabel('Accuracy')\n",
        "    plt.xlabel('Epoch')\n",
        "    plt.legend(['Train', 'Test'], loc='upper left')\n",
        "\n",
        "    # Plot training & validation loss values\n",
        "    plt.subplot(1, 2, 2)\n",
        "    plt.plot(history.history['loss'])\n",
        "    plt.plot(history.history['val_loss'])\n",
        "    plt.title('Model Loss')\n",
        "    plt.ylabel('Loss')\n",
        "    plt.xlabel('Epoch')\n",
        "    plt.legend(['Train', 'Test'], loc='upper left')\n",
        "\n",
        "    plt.show()\n"
      ],
      "metadata": {
        "id": "Db8rpcjRxvR8"
      },
      "execution_count": null,
      "outputs": []
    },
    {
      "cell_type": "markdown",
      "source": [
        "#Bi-Directional LSTM Model"
      ],
      "metadata": {
        "id": "kKEEBmA2oGUV"
      }
    },
    {
      "cell_type": "code",
      "source": [
        "# model = Sequential()\n",
        "# model.add(Embedding(len(word_index) + 1, 100, weights=[emd_matrix], input_length=256, trainable=True))\n",
        "# model.add(Bidirectional(LSTM(128)))\n",
        "# model.add(Dense(52, activation='relu'))\n",
        "# model.add(Dropout(0.3))\n",
        "# model.add(Dense(4, activation='softmax'))\n",
        "# model.compile(loss='categorical_crossentropy', optimizer='adam', metrics=['accuracy', Precision(), Recall()])\n",
        "# model.summary()\n",
        "\n",
        "\n",
        "\n",
        "\n",
        "# Bidirectional LSTM Model Test Accuracy: 0.550000011920929\n",
        "# Bidirectional LSTM Model Test Precision: 0.5472561120986938\n",
        "# Bidirectional LSTM Model Test Recall: 0.5279411673545837\n"
      ],
      "metadata": {
        "id": "J_pwNgc2brIo"
      },
      "execution_count": null,
      "outputs": []
    },
    {
      "cell_type": "code",
      "source": [
        "# from tensorflow.keras.callbacks import ReduceLROnPlateau, EarlyStopping\n",
        "# from tensorflow.keras.optimizers import Adam\n",
        "\n",
        "# # Define the model\n",
        "# model = Sequential()\n",
        "# model.add(Embedding(len(word_index) + 1, 100, weights=[emd_matrix], input_length=256, trainable=True))\n",
        "# model.add(Bidirectional(LSTM(512, return_sequences=True)))\n",
        "# model.add(Bidirectional(LSTM(256)))\n",
        "# model.add(Dense(256, activation='relu'))\n",
        "# model.add(Dropout(0.5))\n",
        "# model.add(Dense(4, activation='softmax'))\n",
        "\n",
        "\n",
        "# optimizer = Adam(learning_rate=0.001)\n",
        "# model.compile(loss='categorical_crossentropy', optimizer=optimizer, metrics=['accuracy', Precision(), Recall()])\n",
        "\n",
        "\n",
        "# reduce_lr = ReduceLROnPlateau(monitor='val_loss', factor=0.2, patience=3, min_lr=0.0001)\n",
        "\n",
        "\n",
        "# early_stop = EarlyStopping(monitor='val_loss', patience=5, restore_best_weights=True)\n",
        "\n",
        "\n",
        "# history = model.fit(X_train, y_train, epochs=50, batch_size=128, validation_data=(X_test, y_test), callbacks=[reduce_lr, early_stop])\n",
        "\n",
        "\n",
        "\n",
        "\n",
        "# print('='*50)\n",
        "# print(f'Training Loss: {train_loss}')\n",
        "# print(f'Training Accuracy: {train_accuracy}')\n",
        "# print(f'Training Precison: {train_precision}')\n",
        "# print(f'Training Recall: {train_recall}')\n",
        "# print('='*50)\n",
        "# ###############\n",
        "# test_loss, test_accuracy, test_precision, test_recall = model.evaluate(X_test, y_test)\n",
        "\n",
        "# print('='*50)\n",
        "# print(f'Bidirectional LSTM Model Test Accuracy: {test_loss}')\n",
        "# print(f'Bidirectional LSTM Model Test Accuracy: {test_accuracy}')\n",
        "# print(f'Bidirectional LSTM Model Test Precision: {test_precision}')\n",
        "# print(f'Bidirectional LSTM Model Test Recall: {test_recall}')\n",
        "# print('='*50)\n",
        "\n",
        "# plot_history(history)"
      ],
      "metadata": {
        "id": "ZOQSZmftCniH"
      },
      "execution_count": null,
      "outputs": []
    },
    {
      "cell_type": "code",
      "source": [
        "# Model Architecture\n",
        "from tensorflow.keras.layers import Conv1D, GlobalMaxPooling1D\n",
        "from tensorflow.keras.callbacks import ReduceLROnPlateau, EarlyStopping\n",
        "from tensorflow.keras.optimizers import Adam\n",
        "model = Sequential()\n",
        "model.add(Embedding(len(word_index) + 1, 100, weights=[emd_matrix], input_length=256, trainable=True))\n",
        "model.add(Bidirectional(LSTM(512, return_sequences=True)))\n",
        "model.add(Bidirectional(LSTM(256, return_sequences=True)))\n",
        "model.add(Conv1D(128, 5, activation='relu'))\n",
        "model.add(GlobalMaxPooling1D())\n",
        "model.add(Dense(256, activation='relu'))\n",
        "model.add(Dropout(0.5))\n",
        "model.add(Dense(4, activation='softmax'))\n",
        "\n",
        "# Optimizer and Compile\n",
        "optimizer = Adam(learning_rate=0.001)\n",
        "model.compile(loss='categorical_crossentropy', optimizer=optimizer, metrics=['accuracy', Precision(), Recall()])\n",
        "\n",
        "# Training\n",
        "reduce_lr = ReduceLROnPlateau(monitor='val_loss', factor=0.2, patience=3, min_lr=0.0001)\n",
        "early_stop = EarlyStopping(monitor='val_loss', patience=5, restore_best_weights=True)\n",
        "\n",
        "history = model.fit(X_train, y_train, epochs=50, batch_size=64, validation_data=(X_test, y_test), callbacks=[reduce_lr, early_stop])\n",
        "train_loss, train_accuracy,train_precision,train_recall = model.evaluate(X_train, y_train)\n",
        "\n",
        "print('='*50)\n",
        "print(f'Training Loss: {train_loss}')\n",
        "print(f'Training Accuracy: {train_accuracy}')\n",
        "print(f'Training Precison: {train_precision}')\n",
        "print(f'Training Recall: {train_recall}')\n",
        "print('='*50)\n",
        "# Evaluation\n",
        "test_loss, test_accuracy, test_precision, test_recall = model.evaluate(X_test, y_test)\n",
        "print('='*50)\n",
        "print(f'Bidirectional LSTM Model Test Accuracy: {test_accuracy}')\n",
        "print(f'Bidirectional LSTM Model Test Precision: {test_precision}')\n",
        "print(f'Bidirectional LSTM Model Test Recall: {test_recall}')\n",
        "print('='*50)\n",
        "\n",
        "plot_history(history)\n",
        "\n",
        "\n",
        "# history= model.fit(X_train, y_train, epochs=10, batch_size=50, validation_data=(X_test, y_test))\n",
        "# train_loss, train_accuracy,train_precision,train_recall = model.evaluate(X_train, y_train)\n",
        "\n",
        "# print('='*50)\n",
        "# print(f'Training Loss: {train_loss}')\n",
        "# print(f'Training Accuracy: {train_accuracy}')\n",
        "# print(f'Training Precison: {train_precision}')\n",
        "# print(f'Training Recall: {train_recall}')\n",
        "# print('='*50)\n",
        "\n",
        "\n",
        "\n",
        "# # Evaluate Bidirectional LSTM model\n",
        "# test_loss, test_accuracy, test_precision, test_recall = model.evaluate(X_test, y_test)\n",
        "\n",
        "# print('='*50)\n",
        "# print(f'Bidirectional LSTM Model Test Accuracy: {test_loss}')\n",
        "# print(f'Bidirectional LSTM Model Test Accuracy: {test_accuracy}')\n",
        "# print(f'Bidirectional LSTM Model Test Precision: {test_precision}')\n",
        "# print(f'Bidirectional LSTM Model Test Recall: {test_recall}')\n",
        "# print('='*50)\n",
        "\n",
        "# plot_history(history)\n"
      ],
      "metadata": {
        "id": "9qr8azD9n0TN",
        "colab": {
          "base_uri": "https://localhost:8080/",
          "height": 934
        },
        "outputId": "79f872a8-ea26-4ee9-b9c5-8ff0032b6151"
      },
      "execution_count": 20,
      "outputs": [
        {
          "output_type": "stream",
          "name": "stdout",
          "text": [
            "Epoch 1/50\n",
            "43/43 [==============================] - 1003s 23s/step - loss: 1.2067 - accuracy: 0.4238 - precision_1: 0.4536 - recall_1: 0.1762 - val_loss: 1.1097 - val_accuracy: 0.4824 - val_precision_1: 0.5575 - val_recall_1: 0.1426 - lr: 0.0010\n",
            "Epoch 2/50\n",
            "43/43 [==============================] - 972s 23s/step - loss: 1.1270 - accuracy: 0.4536 - precision_1: 0.5031 - recall_1: 0.1795 - val_loss: 1.0384 - val_accuracy: 0.5015 - val_precision_1: 0.5711 - val_recall_1: 0.3721 - lr: 0.0010\n",
            "Epoch 3/50\n",
            "43/43 [==============================] - 964s 22s/step - loss: 1.0293 - accuracy: 0.5022 - precision_1: 0.5491 - recall_1: 0.2940 - val_loss: 0.9880 - val_accuracy: 0.5485 - val_precision_1: 0.6146 - val_recall_1: 0.3353 - lr: 0.0010\n",
            "Epoch 4/50\n",
            "43/43 [==============================] - 969s 23s/step - loss: 0.9142 - accuracy: 0.5644 - precision_1: 0.6174 - recall_1: 0.4400 - val_loss: 1.0164 - val_accuracy: 0.5206 - val_precision_1: 0.6091 - val_recall_1: 0.2750 - lr: 0.0010\n",
            "Epoch 5/50\n",
            "43/43 [==============================] - 939s 22s/step - loss: 0.8223 - accuracy: 0.6313 - precision_1: 0.6751 - recall_1: 0.5291 - val_loss: 1.0051 - val_accuracy: 0.5574 - val_precision_1: 0.6207 - val_recall_1: 0.4765 - lr: 0.0010\n",
            "Epoch 6/50\n",
            "43/43 [==============================] - 959s 22s/step - loss: 0.6598 - accuracy: 0.7130 - precision_1: 0.7484 - recall_1: 0.6623 - val_loss: 1.0605 - val_accuracy: 0.5559 - val_precision_1: 0.5814 - val_recall_1: 0.4779 - lr: 0.0010\n",
            "Epoch 7/50\n",
            "43/43 [==============================] - 959s 22s/step - loss: 0.4629 - accuracy: 0.8142 - precision_1: 0.8336 - recall_1: 0.7796 - val_loss: 1.2437 - val_accuracy: 0.5735 - val_precision_1: 0.5833 - val_recall_1: 0.5456 - lr: 2.0000e-04\n",
            "Epoch 8/50\n",
            "43/43 [==============================] - 984s 23s/step - loss: 0.3902 - accuracy: 0.8536 - precision_1: 0.8658 - recall_1: 0.8333 - val_loss: 1.2835 - val_accuracy: 0.5676 - val_precision_1: 0.5851 - val_recall_1: 0.5412 - lr: 2.0000e-04\n",
            "85/85 [==============================] - 267s 3s/step - loss: 0.8812 - accuracy: 0.5982 - precision_1: 0.6631 - recall_1: 0.3620\n",
            "==================================================\n",
            "Training Loss: 0.8812395930290222\n",
            "Training Accuracy: 0.5982339978218079\n",
            "Training Precison: 0.6630727648735046\n",
            "Training Recall: 0.36203089356422424\n",
            "==================================================\n",
            "22/22 [==============================] - 69s 3s/step - loss: 0.9880 - accuracy: 0.5485 - precision_1: 0.6146 - recall_1: 0.3353\n",
            "==================================================\n",
            "Bidirectional LSTM Model Test Accuracy: 0.5485293865203857\n",
            "Bidirectional LSTM Model Test Precision: 0.6145552396774292\n",
            "Bidirectional LSTM Model Test Recall: 0.33529412746429443\n",
            "==================================================\n"
          ]
        },
        {
          "output_type": "display_data",
          "data": {
            "text/plain": [
              "<Figure size 1200x400 with 2 Axes>"
            ],
            "image/png": "[encoded data removed]"
          },
          "metadata": {}
        }
      ]
    }
  ]
}